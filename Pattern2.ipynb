{
 "cells": [
  {
   "cell_type": "code",
   "execution_count": 1,
   "metadata": {},
   "outputs": [
    {
     "name": "stdout",
     "output_type": "stream",
     "text": [
      "Enter the no of rows: 4\n",
      "*\n",
      "**\n",
      "***\n",
      "****\n"
     ]
    }
   ],
   "source": [
    "#Triangular star pattern \n",
    "n=int(input(\"Enter the no of rows: \"))\n",
    "i=1\n",
    "while(i<=n):\n",
    "    j=1\n",
    "    while(j<=i):\n",
    "        print(\"*\",end =\"\")\n",
    "        j=j+1\n",
    "    print()\n",
    "    i=i+1"
   ]
  },
  {
   "cell_type": "code",
   "execution_count": 2,
   "metadata": {},
   "outputs": [
    {
     "name": "stdout",
     "output_type": "stream",
     "text": [
      "Enter the no of rows: 4\n",
      "1\n",
      "22\n",
      "333\n",
      "4444\n"
     ]
    }
   ],
   "source": [
    "#triangle number pattern\n",
    "n=int(input(\"Enter the no of rows: \"))\n",
    "i=1\n",
    "while(i<=n):\n",
    "    j=1\n",
    "    while(j<=i):\n",
    "        print(i,end=\"\")\n",
    "        j=j+1\n",
    "    print()\n",
    "    i=i+1"
   ]
  },
  {
   "cell_type": "code",
   "execution_count": 3,
   "metadata": {},
   "outputs": [
    {
     "name": "stdout",
     "output_type": "stream",
     "text": [
      "Enter the no of rows: 4\n",
      "1\n",
      "21\n",
      "321\n",
      "4321\n"
     ]
    }
   ],
   "source": [
    "#reverse number pattern\n",
    "n=int(input(\"Enter the no of rows: \"))\n",
    "i=1\n",
    "while(i<=n):\n",
    "    j=1\n",
    "    while(j<=i):\n",
    "        print(i-j+1,end=\"\")\n",
    "        j=j+1\n",
    "    print()\n",
    "    i=i+1"
   ]
  },
  {
   "cell_type": "code",
   "execution_count": 4,
   "metadata": {},
   "outputs": [
    {
     "name": "stdout",
     "output_type": "stream",
     "text": [
      "Enter the value of k: 4\n"
     ]
    },
    {
     "data": {
      "text/plain": [
       "'D'"
      ]
     },
     "execution_count": 4,
     "metadata": {},
     "output_type": "execute_result"
    }
   ],
   "source": [
    "#printing kth alphabet \n",
    "k=int(input(\"Enter the value of k: \"))\n",
    "x=ord(\"A\") #ASCII VALUE OF A\n",
    "asciitarget= x+k-1 #ascii value of kth alphabet\n",
    "targetchar= chr(asciitarget) #converts ascii vale of kth alphabet to string alphabet\n",
    "targetchar"
   ]
  },
  {
   "cell_type": "code",
   "execution_count": null,
   "metadata": {},
   "outputs": [],
   "source": [
    "ABCD\n",
    "ABCD\n",
    "ABCD\n",
    "ABCD"
   ]
  },
  {
   "cell_type": "code",
   "execution_count": 5,
   "metadata": {},
   "outputs": [
    {
     "name": "stdout",
     "output_type": "stream",
     "text": [
      "Enter the no of rows: 4\n",
      "ABCD\n",
      "ABCD\n",
      "ABCD\n",
      "ABCD\n"
     ]
    }
   ],
   "source": [
    "n=int(input(\"Enter the no of rows: \"))\n",
    "i=1\n",
    "while(i<=n):\n",
    "    j=1\n",
    "    while(j<=n):\n",
    "        charP=chr (ord(\"A\")+j-1)\n",
    "        print(charP,end=\"\")\n",
    "        j=j+1    \n",
    "    print()\n",
    "    i=i+1"
   ]
  },
  {
   "cell_type": "markdown",
   "metadata": {},
   "source": [
    "ABCD\n",
    "BCDE\n",
    "CDEF\n",
    "DEFG"
   ]
  },
  {
   "cell_type": "code",
   "execution_count": 6,
   "metadata": {},
   "outputs": [
    {
     "name": "stdout",
     "output_type": "stream",
     "text": [
      "Enter the no of rows: 4\n",
      "ABCD\n",
      "BCDE\n",
      "CDEF\n",
      "DEFG\n"
     ]
    }
   ],
   "source": [
    "n=int(input(\"Enter the no of rows: \"))\n",
    "i=1\n",
    "while(i<=n):\n",
    "    j=1\n",
    "    start_char=chr(ord(\"A\")+i-1)\n",
    "    while(j<=n):\n",
    "        charP=chr(ord(start_char)+j-1)\n",
    "        print(charP,end=\"\")\n",
    "        j=j+1\n",
    "    print()\n",
    "    i=i+1       "
   ]
  },
  {
   "cell_type": "code",
   "execution_count": 7,
   "metadata": {},
   "outputs": [
    {
     "name": "stdout",
     "output_type": "stream",
     "text": [
      "Enter the no of rows: 4\n",
      "A\n",
      "BB\n",
      "CCC\n",
      "DDDD\n"
     ]
    }
   ],
   "source": [
    "#alpha pattern\n",
    "n=int(input(\"Enter the no of rows: \"))\n",
    "i=1\n",
    "while(i<=n):\n",
    "    j=1\n",
    "    while(j<=i):\n",
    "        charP=chr(ord('A')+i-1)\n",
    "        print(charP,end='')\n",
    "        j=j+1\n",
    "    print()\n",
    "    i=i+1"
   ]
  },
  {
   "cell_type": "code",
   "execution_count": 8,
   "metadata": {},
   "outputs": [
    {
     "name": "stdout",
     "output_type": "stream",
     "text": [
      "Enter the no of rows: 4\n",
      "A\n",
      "BC\n",
      "CDE\n",
      "DEFG\n"
     ]
    }
   ],
   "source": [
    "#character pattern\n",
    "n=int(input(\"Enter the no of rows: \"))\n",
    "i=1\n",
    "while(i<=n):\n",
    "    j=1\n",
    "    start_char=chr(ord('A')+i-1)\n",
    "    while(j<=i):\n",
    "        charP=chr(ord(start_char)+j-1)\n",
    "        print(charP,end=\"\")\n",
    "        j=j+1\n",
    "    print()\n",
    "    i=i+1"
   ]
  },
  {
   "cell_type": "code",
   "execution_count": 9,
   "metadata": {},
   "outputs": [
    {
     "name": "stdout",
     "output_type": "stream",
     "text": [
      "Enter the no of rows: 4\n",
      "****\n",
      "***\n",
      "**\n",
      "*\n"
     ]
    }
   ],
   "source": [
    "#inverted stars pattern\n",
    "n=int(input(\"Enter the no of rows: \"))\n",
    "i=1\n",
    "while(i<=n):\n",
    "    j=1\n",
    "    while (j<=n-i+1):\n",
    "        print('*',end=\"\")\n",
    "        j=j+1\n",
    "    print()\n",
    "    i=i+1"
   ]
  },
  {
   "cell_type": "code",
   "execution_count": 10,
   "metadata": {},
   "outputs": [
    {
     "name": "stdout",
     "output_type": "stream",
     "text": [
      "Enter the no of rows: 4\n",
      "4444\n",
      "333\n",
      "22\n",
      "1\n"
     ]
    }
   ],
   "source": [
    "#inverted number pattern\n",
    "n=int(input(\"Enter the no of rows: \"))\n",
    "i=1\n",
    "while(i<=n):\n",
    "    j=1\n",
    "    \n",
    "    while(j<=n-i+1):\n",
    "        print(n-i+1,end='')\n",
    "        j=j+1\n",
    "    print()\n",
    "    i=i+1"
   ]
  },
  {
   "cell_type": "code",
   "execution_count": 11,
   "metadata": {},
   "outputs": [
    {
     "name": "stdout",
     "output_type": "stream",
     "text": [
      "Enter the number of rows: 4\n",
      "   *\n",
      "  **\n",
      " ***\n",
      "****\n"
     ]
    }
   ],
   "source": [
    "#mirror stars pattern\n",
    "n=int(input(\"Enter the number of rows: \"))\n",
    "i=1\n",
    "while(i<=n):\n",
    "    spaces=1\n",
    "    while(spaces<=n-i):\n",
    "        print(\" \",end='')\n",
    "        spaces=spaces+1\n",
    "    stars =1\n",
    "    while(stars<=i):\n",
    "        print(\"*\",end='')\n",
    "        stars=stars+1\n",
    "    print()\n",
    "    i=i+1"
   ]
  },
  {
   "cell_type": "code",
   "execution_count": 12,
   "metadata": {},
   "outputs": [
    {
     "name": "stdout",
     "output_type": "stream",
     "text": [
      "Enter the number of rows: 4\n",
      "   1\n",
      "  12\n",
      " 123\n",
      "1234\n"
     ]
    }
   ],
   "source": [
    "# Mirror number pattern\n",
    "n=int(input(\"Enter the number of rows: \"))\n",
    "i=1\n",
    "while(i<=n):\n",
    "    spaces=1\n",
    "    while(spaces<=n-i):\n",
    "        print(\" \",end='')\n",
    "        spaces=spaces+1\n",
    "    count =1\n",
    "    while(count<=i):\n",
    "        print(count,end='')\n",
    "        count=count+1\n",
    "    print()\n",
    "    i=i+1"
   ]
  },
  {
   "cell_type": "code",
   "execution_count": 13,
   "metadata": {},
   "outputs": [
    {
     "name": "stdout",
     "output_type": "stream",
     "text": [
      "Enter the value of n: 4\n",
      "   1\n",
      "  12\n",
      " 123\n",
      "1234\n"
     ]
    }
   ],
   "source": [
    "#break it into pieces -InP\n",
    "n=int(input(\"Enter the value of n: \"))\n",
    "i=1\n",
    "while(i<=n):\n",
    "    #spaces\n",
    "    spaces=1\n",
    "    while(spaces<=n-i):\n",
    "        print(\" \",end='')\n",
    "        spaces=spaces+1\n",
    "    #increasing numbers\n",
    "    p=1\n",
    "    j=1\n",
    "    while(j<=i):\n",
    "        print(p,end='')\n",
    "        p=p+1\n",
    "        j=j+1\n",
    "    print()\n",
    "    i=i+1        "
   ]
  },
  {
   "cell_type": "code",
   "execution_count": 14,
   "metadata": {},
   "outputs": [
    {
     "name": "stdout",
     "output_type": "stream",
     "text": [
      "Enter the value of n: 4\n",
      "   1\n",
      "  121\n",
      " 12321\n",
      "1234321\n"
     ]
    }
   ],
   "source": [
    "#interesting pattern \n",
    "n=int(input(\"Enter the value of n: \"))\n",
    "i=1\n",
    "while(i<=n):\n",
    "   \n",
    "    #spaces\n",
    "    spaces=1\n",
    "    while(spaces<=n-i):\n",
    "        print(\" \",end='')\n",
    "        spaces=spaces+1\n",
    "   \n",
    "   #increasing numbers\n",
    "    p=1\n",
    "    j=1\n",
    "    while(j<=i):\n",
    "        print(p,end='')\n",
    "        p=p+1\n",
    "        j=j+1\n",
    "   \n",
    "   #decreasing numbers\n",
    "    p=i-1\n",
    "    while (p>=1):\n",
    "        print(p,end='')\n",
    "        p=p-1\n",
    "   \n",
    "    print()\n",
    "    i=i+1   "
   ]
  },
  {
   "cell_type": "code",
   "execution_count": 15,
   "metadata": {},
   "outputs": [
    {
     "name": "stdout",
     "output_type": "stream",
     "text": [
      "Enter the value of n: 4\n",
      "   *\n",
      "  ***\n",
      " *****\n",
      "*******\n"
     ]
    }
   ],
   "source": [
    "#star pattern\n",
    "n=int(input(\"Enter the value of n: \"))\n",
    "i=1\n",
    "while(i<=n):\n",
    "   \n",
    "    #spaces\n",
    "    spaces=1\n",
    "    while(spaces<=n-i):\n",
    "        print(\" \",end='')\n",
    "        spaces=spaces+1\n",
    "   \n",
    "   #increasing stars\n",
    "    j=1\n",
    "    while(j<=i):\n",
    "        print(\"*\",end='')\n",
    "        j=j+1\n",
    "   \n",
    "   #decreasing stars\n",
    "    p=i-1\n",
    "    while (p>=1):\n",
    "        print(\"*\",end='')\n",
    "        p=p-1\n",
    "   \n",
    "    print()\n",
    "    i=i+1   "
   ]
  },
  {
   "cell_type": "code",
   "execution_count": 16,
   "metadata": {},
   "outputs": [
    {
     "name": "stdout",
     "output_type": "stream",
     "text": [
      "Enter the value of n: 4\n",
      "   1\n",
      "  232\n",
      " 34543\n",
      "4567654\n"
     ]
    }
   ],
   "source": [
    "#triangle of numbers\n",
    "n=int(input(\"Enter the value of n: \"))\n",
    "i=1\n",
    "while(i<=n):\n",
    "   \n",
    "    #spaces\n",
    "    spaces=1\n",
    "    while(spaces<=n-i):\n",
    "        print(\" \",end='')\n",
    "        spaces=spaces+1\n",
    "   \n",
    "   #counting\n",
    "    j=1\n",
    "    p=i\n",
    "    while(j<=i):\n",
    "        print(p,end='')\n",
    "        p=p+1\n",
    "        j=j+1\n",
    "   \n",
    "    #reverse counting\n",
    "    p=(2*i)-2\n",
    "    while (p>=i):\n",
    "        print(p,end='')\n",
    "        p=p-1\n",
    "\n",
    "   \n",
    "    print()\n",
    "    i=i+1    "
   ]
  },
  {
   "cell_type": "code",
   "execution_count": null,
   "metadata": {},
   "outputs": [],
   "source": []
  }
 ],
 "metadata": {
  "kernelspec": {
   "display_name": "Python 3",
   "language": "python",
   "name": "python3"
  },
  "language_info": {
   "codemirror_mode": {
    "name": "ipython",
    "version": 3
   },
   "file_extension": ".py",
   "mimetype": "text/x-python",
   "name": "python",
   "nbconvert_exporter": "python",
   "pygments_lexer": "ipython3",
   "version": "3.8.2"
  }
 },
 "nbformat": 4,
 "nbformat_minor": 4
}
